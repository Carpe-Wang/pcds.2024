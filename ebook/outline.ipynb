{
 "cells": [
  {
   "cell_type": "markdown",
   "id": "bdb43aa9-0a0b-4f7c-9c04-bf84b4a76be2",
   "metadata": {},
   "source": [
    "## Outline\n",
    "\n",
    "#### [Introduction](00_intro.ipynb) (Aug 26)\n",
    "* Course Goals and Culture\n",
    "* Parallelism\n",
    "* Modern processors from a programmer's perspective\n",
    "\n",
    "#### [Parallel Python](01_joblib.ipynb)  (Aug 28)\n",
    "* A First Program\n",
    "* Python parallel processes\n",
    "* Concurrency versus parallelism\n",
    "* The Global Interpreter Lock and python threads\n",
    "\n",
    "#### [Strong Scaling](02_strong_scaling.ipynb) (Sep. 4)\n",
    "* Amdahls Law\n",
    "* Speedup\n",
    "* Parallel Efficiency"
   ]
  },
  {
   "cell_type": "code",
   "execution_count": null,
   "id": "46924314-9734-4557-a897-2a5bd1d530fe",
   "metadata": {},
   "outputs": [],
   "source": []
  }
 ],
 "metadata": {
  "kernelspec": {
   "display_name": "Python 3 (ipykernel)",
   "language": "python",
   "name": "python3"
  },
  "language_info": {
   "codemirror_mode": {
    "name": "ipython",
    "version": 3
   },
   "file_extension": ".py",
   "mimetype": "text/x-python",
   "name": "python",
   "nbconvert_exporter": "python",
   "pygments_lexer": "ipython3",
   "version": "3.10.9"
  }
 },
 "nbformat": 4,
 "nbformat_minor": 5
}
