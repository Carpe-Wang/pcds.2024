{
 "cells": [
  {
   "cell_type": "markdown",
   "id": "ce265c4c-a998-41f8-a413-2919cde7edc3",
   "metadata": {},
   "source": [
    "### PySpark Friends of Friends\n",
    "\n",
    "We are going to reproduce the map/reduce Hadoop example in Spark.\n",
    "First things first, let's run it as a map/reduce.  The `lines_to_triples` function\n",
    "implements the pattern that we used for MR.\n",
    "> Node A with neighbors B and C propose canidate triples to it's neighbors\n",
    "    * B A C to node B (A<C, else B C A)\n",
    "    * C A B to node C (A<B else C B A)\n",
    "All triples will get two proposal from it's neighbors and reduce them. If there are two matching proposals, we have a triple."
   ]
  },
  {
   "cell_type": "code",
   "execution_count": null,
   "id": "9eb9eca2-47cd-4201-b6ed-6c4c8ce93d1c",
   "metadata": {
    "tags": []
   },
   "outputs": [],
   "source": [
    "import numpy as np\n",
    "\n",
    "def line_to_triples(line: str):\n",
    "    fids = np.array(line.split(), dtype=int)\n",
    "    ret = []\n",
    "    for i in range(1, len(fids) - 1):\n",
    "        for j in  range(i + 1, len(fids)):\n",
    "            source = fids[0]\n",
    "            fi, fj = fids[i], fids[j]\n",
    "            if source < fi:\n",
    "                ret.append([fj, source, fi])\n",
    "            else:\n",
    "                ret.append([fj, fi, source])\n",
    "            if source < fj:\n",
    "                ret.append([fi, source, fj])\n",
    "            else:\n",
    "                ret.append([fi, fj, source])\n",
    "    return ret    "
   ]
  },
  {
   "cell_type": "code",
   "execution_count": null,
   "id": "8a646ff2-a93a-4901-ad9b-538345d7b218",
   "metadata": {},
   "outputs": [],
   "source": [
    "Simple test to show what it does."
   ]
  },
  {
   "cell_type": "code",
   "execution_count": 144,
   "id": "3741e37d-be14-4f54-a983-25001937827e",
   "metadata": {
    "tags": []
   },
   "outputs": [
    {
     "data": {
      "text/plain": [
       "[[8, 1, 5],\n",
       " [5, 1, 8],\n",
       " [7, 1, 5],\n",
       " [5, 1, 7],\n",
       " [9, 1, 5],\n",
       " [5, 1, 9],\n",
       " [7, 1, 8],\n",
       " [8, 1, 7],\n",
       " [9, 1, 8],\n",
       " [8, 1, 9],\n",
       " [9, 1, 7],\n",
       " [7, 1, 9]]"
      ]
     },
     "execution_count": 144,
     "metadata": {},
     "output_type": "execute_result"
    }
   ],
   "source": [
    "line_to_triples (\"1 5 8 7 9\")"
   ]
  },
  {
   "cell_type": "markdown",
   "id": "89a99c61-970d-4cbf-9bb6-c6d9bd599b54",
   "metadata": {
    "tags": []
   },
   "source": [
    "#### Map/Reduce style impelementations\n",
    "\n",
    "Now, using the map/reduce equivalent, use lines to triples to write a program on simple intput. You will have to use the wordcount style `<triple>, 1` to get a simpler reducer to work."
   ]
  },
  {
   "cell_type": "code",
   "execution_count": null,
   "id": "5f48c4bc-653e-4e39-ba4e-1168f0885774",
   "metadata": {
    "tags": []
   },
   "outputs": [],
   "source": [
    "from pyspark import SparkContext\n",
    "\n",
    "inputdir = \"../data/simple.input\"\n",
    "outdir = \"/tmp/output1\"\n",
    "\n",
    "from pyspark import SparkContext\n",
    "sc = SparkContext(\"local\", \"App Name\",)\n",
    "rdd = sc.textFile(f\"{inputdir}/*\")\n",
    "rdd = rdd.flatMap(line_to_triples)\n",
    "rdd = rdd.map(lambda x: (str(x), 1))\n",
    "rdd = rdd.reduceByKey(lambda x, y: x + y)\n",
    "rdd = rdd.filter(lambda x: x[1] > 1)\n",
    "rdd = rdd.map(lambda x: x[0])\n",
    "rdd.saveAsTextFile(outdir)\n",
    "\n",
    "sc.stop()                                                                                                                                   "
   ]
  },
  {
   "cell_type": "code",
   "execution_count": null,
   "id": "f5699b4d-eedf-42cc-b98b-0eaae27210bd",
   "metadata": {
    "tags": []
   },
   "outputs": [],
   "source": [
    "sc.stop()  "
   ]
  },
  {
   "cell_type": "code",
   "execution_count": null,
   "id": "6adc6e67-c8f7-40e4-a783-c0addb7f6895",
   "metadata": {
    "tags": []
   },
   "outputs": [],
   "source": [
    "### Helper funtions for join/partitions"
   ]
  },
  {
   "cell_type": "code",
   "execution_count": null,
   "id": "8f8a9865-d765-4935-ab73-a2d1aecef851",
   "metadata": {
    "tags": []
   },
   "outputs": [],
   "source": [
    "def add_index (idx, part):\n",
    "    for p in part:\n",
    "        yield str(p), str(idx)"
   ]
  },
  {
   "cell_type": "code",
   "execution_count": null,
   "id": "f7638ab0-0b93-4131-87e2-a2931749ba37",
   "metadata": {
    "tags": []
   },
   "outputs": [],
   "source": [
    "def filter_diff_idx (x):\n",
    "    if x[1][0] != x[1][1]:\n",
    "        return x[0]"
   ]
  },
  {
   "cell_type": "code",
   "execution_count": null,
   "id": "5310c681-2719-4c26-8fd2-0feaf10a12a1",
   "metadata": {
    "tags": []
   },
   "outputs": [],
   "source": [
    "filter_diff_idx(('[200, 100, 300]', ('0', '1')))"
   ]
  },
  {
   "cell_type": "code",
   "execution_count": null,
   "id": "5891725d-cb89-492a-8f17-265e8934e941",
   "metadata": {
    "tags": []
   },
   "outputs": [],
   "source": [
    "\n",
    "for t in add_index( 4, [7, 2, 4] ):\n",
    "    print(t)"
   ]
  },
  {
   "cell_type": "code",
   "execution_count": null,
   "id": "fd43f22c-ce88-485c-ab99-2d68d08307e5",
   "metadata": {
    "tags": []
   },
   "outputs": [],
   "source": [
    "#### Join based implementation"
   ]
  },
  {
   "cell_type": "code",
   "execution_count": null,
   "id": "c33970c5-0107-45cc-b78f-fcd692bf4eba",
   "metadata": {
    "tags": []
   },
   "outputs": [],
   "source": [
    "from pyspark import SparkContext\n",
    "\n",
    "inputdir = \"../data/simple.input\"\n",
    "outdir = \"/tmp/output2\"\n",
    "\n",
    "from pyspark import SparkContext\n",
    "sc = SparkContext(\"local\", \"App Name\",)\n",
    "rdd = sc.textFile(f\"{inputdir}/*\")\n",
    "rdd = rdd.flatMap(line_to_triples)\n",
    "rdd = rdd.mapPartitionsWithIndex(add_index)\n",
    "rdd = rdd.join(rdd)\n",
    "rdd = rdd.map(filter_diff_idx).filter(lambda x: x!= None)\n",
    "rdd.saveAsTextFile(outdir)\n",
    "\n",
    "sc.stop()"
   ]
  },
  {
   "cell_type": "code",
   "execution_count": null,
   "id": "536f027f-2a65-4fa0-9453-aca330dbbde6",
   "metadata": {
    "tags": []
   },
   "outputs": [],
   "source": [
    "##### Try to do map paritions again "
   ]
  },
  {
   "cell_type": "code",
   "execution_count": null,
   "id": "5231367f-38e6-4186-931c-6dad26b5404d",
   "metadata": {
    "tags": []
   },
   "outputs": [],
   "source": [
    "def filter_part (part):\n",
    "    for p in part:\n",
    "        if p[1][0] != p[1][1]:\n",
    "            yield p[0]"
   ]
  },
  {
   "cell_type": "code",
   "execution_count": 151,
   "id": "74e358d5-1f9b-4a2a-81da-0d2b2b44e803",
   "metadata": {
    "tags": []
   },
   "outputs": [],
   "source": [
    "### Timings"
   ]
  },
  {
   "cell_type": "code",
   "execution_count": null,
   "id": "3a5693a3-d31c-4529-8ec1-3fd3c79ba9bd",
   "metadata": {},
   "outputs": [],
   "source": [
    "##### Medium fast version?"
   ]
  },
  {
   "cell_type": "code",
   "execution_count": 146,
   "id": "a3b904e2-cf58-49fc-ba45-63205d15742c",
   "metadata": {
    "tags": []
   },
   "outputs": [
    {
     "name": "stderr",
     "output_type": "stream",
     "text": [
      "                                                                                \r"
     ]
    },
    {
     "name": "stdout",
     "output_type": "stream",
     "text": [
      "8min 53s ± 0 ns per loop (mean ± std. dev. of 1 run, 1 loop each)\n"
     ]
    }
   ],
   "source": [
    "%%timeit -n1 -r1\n",
    "from pyspark import SparkContext\n",
    "\n",
    "inputdir = \"../data/fof.input\"\n",
    "outdir = \"/tmp/outputfof\"\n",
    "\n",
    "from pyspark import SparkContext\n",
    "sc = SparkContext(\"local\", \"App Name\",)\n",
    "rdd = sc.textFile(f\"{inputdir}/*\")\n",
    "rdd = rdd.flatMap(line_to_triples)\n",
    "rdd = rdd.mapPartitionsWithIndex(add_index)\n",
    "rdd = rdd.join(rdd)\n",
    "rdd = rdd.map(filter_diff_idx).filter(lambda x: x!= None)\n",
    "rdd.saveAsTextFile(outdir)\n",
    "\n",
    "sc.stop()"
   ]
  },
  {
   "cell_type": "code",
   "execution_count": null,
   "id": "77c77dbd-3af3-4b97-88b8-fbd8667b925d",
   "metadata": {},
   "outputs": [],
   "source": [
    "##### Slow version?"
   ]
  },
  {
   "cell_type": "code",
   "execution_count": 147,
   "id": "9ca76291-93af-448b-88b3-925c5453954e",
   "metadata": {
    "tags": []
   },
   "outputs": [
    {
     "name": "stderr",
     "output_type": "stream",
     "text": [
      "                                                                                \r"
     ]
    },
    {
     "name": "stdout",
     "output_type": "stream",
     "text": [
      "3min 31s ± 0 ns per loop (mean ± std. dev. of 1 run, 1 loop each)\n"
     ]
    }
   ],
   "source": [
    "%%timeit -n1 -r1\n",
    "from pyspark import SparkContext\n",
    "\n",
    "inputdir = \"../data/fof.input\"\n",
    "outdir = \"/tmp/outputfof2\"\n",
    "\n",
    "from pyspark import SparkContext\n",
    "sc = SparkContext(\"local\", \"App Name\",)\n",
    "rdd = sc.textFile(f\"{inputdir}/*\")\n",
    "rdd = rdd.flatMap(line_to_triples)\n",
    "rdd = rdd.map(lambda x: (str(x), 1))\n",
    "rdd = rdd.reduceByKey(lambda x, y: x + y)\n",
    "rdd = rdd.filter(lambda x: x[1] > 1)\n",
    "rdd = rdd.map(lambda x: x[0])\n",
    "rdd.saveAsTextFile(outdir)\n",
    "\n",
    "sc.stop()                "
   ]
  },
  {
   "cell_type": "code",
   "execution_count": null,
   "id": "82e360f9-7c3a-4b7f-9e90-21d1f1bdbf49",
   "metadata": {},
   "outputs": [],
   "source": [
    "#### Faster version"
   ]
  },
  {
   "cell_type": "code",
   "execution_count": 150,
   "id": "d36d0433-fbdb-42b6-aec4-c622d816bc13",
   "metadata": {
    "tags": []
   },
   "outputs": [
    {
     "name": "stderr",
     "output_type": "stream",
     "text": [
      "                                                                                \r"
     ]
    },
    {
     "name": "stdout",
     "output_type": "stream",
     "text": [
      "8min 56s ± 0 ns per loop (mean ± std. dev. of 1 run, 1 loop each)\n"
     ]
    }
   ],
   "source": [
    "%%timeit -n1 -r1\n",
    "from pyspark import SparkContext\n",
    "\n",
    "inputdir = \"../data/fof.input\"\n",
    "outdir = \"/tmp/outputfof4\"\n",
    "\n",
    "from pyspark import SparkContext\n",
    "sc = SparkContext(\"local\", \"App Name\",)\n",
    "rdd = sc.textFile(f\"{inputdir}/*\")\n",
    "rdd = rdd.flatMap(line_to_triples)\n",
    "rdd = rdd.mapPartitionsWithIndex(add_index)\n",
    "rdd = rdd.join(rdd)\n",
    "rdd = rdd.map(filter_part)\n",
    "rdd.saveAsTextFile(outdir)\n",
    "\n",
    "sc.stop()"
   ]
  },
  {
   "cell_type": "code",
   "execution_count": null,
   "id": "8a7be2a9-880d-416e-89e8-b84976c06895",
   "metadata": {},
   "outputs": [],
   "source": []
  }
 ],
 "metadata": {
  "kernelspec": {
   "display_name": "Python 3 (ipykernel)",
   "language": "python",
   "name": "python3"
  },
  "language_info": {
   "codemirror_mode": {
    "name": "ipython",
    "version": 3
   },
   "file_extension": ".py",
   "mimetype": "text/x-python",
   "name": "python",
   "nbconvert_exporter": "python",
   "pygments_lexer": "ipython3",
   "version": "3.10.9"
  }
 },
 "nbformat": 4,
 "nbformat_minor": 5
}
