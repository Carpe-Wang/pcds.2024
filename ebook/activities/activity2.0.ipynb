{
 "cells": [
  {
   "cell_type": "markdown",
   "id": "1a67f85d-6cac-47aa-ab01-3bb1654d7099",
   "metadata": {},
   "source": [
    "###  Activity 2.0: Loop Ordering and False Sharing\n",
    "\n",
    "This activity reinforces the concept of reduction and the caching principles taught in the lecture on Cilk on Sep. 18. It is recommended that you run this on the CS machines `gradx.cs.jhu.edu` or `ugradx.cs.jhu.edu`.  The results make sense here.  It is OK to run this on any machine that has at least 4 cores.  If you run on different machine, you may end up with slightly different results. It is OK if your results don't track exactly with the expected findings. On my M1 laptop the results get confuction.\n",
    "\n",
    "**Due date**: Thursday September 28, 2023, 9:00 pm EDT.\n",
    "\n",
    "**Instructions for Submission**: Submit via Gradescope."
   ]
  },
  {
   "cell_type": "markdown",
   "id": "608eb679-a8cd-4e06-8589-d995f8d03329",
   "metadata": {},
   "source": [
    "### The Program\n",
    "\n",
    "The is a nested loop program that counts the number of occurences of a list of tokens in an array of elements. This is a common computing pattern in data analytics. This could be used to count the number of messages sent in a network from a set of sources.\n",
    "\n",
    "There are two serial versions of the program.  These are:\n",
    "  * `countTokensElementsFirst`: loop over the larger elements array in the outer loop and the smaller tokens array in the inner loop.\n",
    "  * `countTokensTokensFirst`: loop over the larger elements array in the outer loop and the smaller tokens array in the inner loop.\n",
    "  \n",
    "This is not a 2-d dimensional data structure like our previous examples. It is 2 separate arrays."
   ]
  },
  {
   "cell_type": "markdown",
   "id": "03a54ffa-dd9f-4507-afe7-3617489aeab5",
   "metadata": {},
   "source": [
    "#### Programming\n",
    "\n",
    "\n",
    "Complete the *TODO* instructions in [activity2/tokens_omp.cpp].\n",
    "\n",
    "Add `parallel for` directives to functions:\n",
    " * `omp_countTokensElementsFirst`\n",
    " * `omp_countTokensTokensFirst`\n",
    " \n",
    "Add `parallel for` and `reduction` directive for the array `token_counts` for:\n",
    "  * `omp_countTokensElementsFirst_reduce`\n",
    "  * `omp_countTokensTokensFirst_reduce`\n",
    "  \n",
    "The array reduction clause was added to OpenMP and requires one to specify the length of the array.  A simple example is provided in https://dvalters.github.io/optimisation/code/2016/11/06/OpenMP-array_reduction.html.\n",
    "\n",
    "On the `gradx.cs.jhu.edu` machine after I added this code, I got the timing results\n",
    "```\n",
    "Tokens First time: 7.82809 seconds\n",
    "Elements First time: 7.47596 seconds\n",
    "OMP Tokens First time: 3.23214 seconds\n",
    "OMP Elements First time: 1.87131 seconds\n",
    "OMP Tokens First Reduce time: 2.06094 seconds\n",
    "OMP Elements First Reduce time.: 1.74381 seconds\n",
    "```\n",
    "building with the command line\n",
    "```\n",
    "g++ -fopenmp tokens_omp.cpp\n",
    "```"
   ]
  },
  {
   "cell_type": "markdown",
   "id": "a878c4b4-a04d-43bf-8371-a5ed15591d5c",
   "metadata": {},
   "source": [
    "#### Questions\n",
    "\n",
    "1. Why is it more efficient to iterate over the `tokens` in the inner loop? \n",
    "(_Note_: Access to both arrays is sequential. This is a question of cache capacity and cache misses.)\n",
    "\n",
    "2. Of the functions `omp_countTokensElementsFirst` and `omp_countTokensTokensFirst`\n",
    "    1. Which function performs (unsafe) sharing in the tokens array?\n",
    "    2. Which function assigns different elements of the token array to different threads?\n",
    "    \n",
    "(_Note_: This shows that it is safe to share read-only data (the `elements` array) and dangerous to share write data (the `tokens` array))\n",
    "    \n",
    "3. For the `omp` function that assigns different tokens to different threads, how does false sharing arise?  Draw a diagram (hand drawn and take a picture is fine. nothing fancy)"
   ]
  },
  {
   "cell_type": "code",
   "execution_count": null,
   "id": "bf50e2f0-fc63-4734-a05e-b038049b20e1",
   "metadata": {},
   "outputs": [],
   "source": []
  }
 ],
 "metadata": {
  "kernelspec": {
   "display_name": "Python 3 (ipykernel)",
   "language": "python",
   "name": "python3"
  },
  "language_info": {
   "codemirror_mode": {
    "name": "ipython",
    "version": 3
   },
   "file_extension": ".py",
   "mimetype": "text/x-python",
   "name": "python",
   "nbconvert_exporter": "python",
   "pygments_lexer": "ipython3",
   "version": "3.10.9"
  }
 },
 "nbformat": 4,
 "nbformat_minor": 5
}
